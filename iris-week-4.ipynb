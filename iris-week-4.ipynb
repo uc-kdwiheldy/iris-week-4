{
 "cells": [
  {
   "cell_type": "markdown",
   "metadata": {
    "id": "59lmf9GN_pz9"
   },
   "source": [
    "#Week 4: Supervised Learning - Classification - Iris\n",
    "-------------------------------------\n",
    "Lab exercise kali ini menggunakan dataset iris:\n",
    "https://raw.githubusercontent.com/catharinamega/Data-Mining-ISB-2020/main/Week%204/iris.csv\n",
    "\n",
    "Lakukan klasifikasi pada dataset tersebut dengan menggunakan 3 cara: Logistic Regression, Naive Bayes, dan K-Nearest Neighbor (dengan k=5)"
   ]
  },
  {
   "cell_type": "markdown",
   "metadata": {
    "id": "D-_Rri1ABBzs"
   },
   "source": [
    "## Import library"
   ]
  },
  {
   "cell_type": "code",
   "execution_count": 17,
   "metadata": {
    "id": "o7qqljwHAty2"
   },
   "outputs": [],
   "source": [
    "import numpy as np\n",
    "import matplotlib.pyplot as plt\n",
    "import pandas as pd\n",
    "import seaborn as sns\n",
    "from sklearn.model_selection import train_test_split\n",
    "from sklearn import metrics\n",
    "from sklearn.naive_bayes import GaussianNB\n",
    "from sklearn.neighbors import KNeighborsClassifier\n",
    "from sklearn.linear_model import LogisticRegression"
   ]
  },
  {
   "cell_type": "markdown",
   "metadata": {
    "id": "SCknVHJuBFWF"
   },
   "source": [
    "## Load Dataset"
   ]
  },
  {
   "cell_type": "code",
   "execution_count": 18,
   "metadata": {
    "colab": {
     "base_uri": "https://localhost:8080/",
     "height": 206
    },
    "id": "r9FYMEXZAy0a",
    "outputId": "005ba917-33cf-4a67-9808-0679ba293fca"
   },
   "outputs": [
    {
     "data": {
      "text/html": [
       "<div>\n",
       "<style scoped>\n",
       "    .dataframe tbody tr th:only-of-type {\n",
       "        vertical-align: middle;\n",
       "    }\n",
       "\n",
       "    .dataframe tbody tr th {\n",
       "        vertical-align: top;\n",
       "    }\n",
       "\n",
       "    .dataframe thead th {\n",
       "        text-align: right;\n",
       "    }\n",
       "</style>\n",
       "<table border=\"1\" class=\"dataframe\">\n",
       "  <thead>\n",
       "    <tr style=\"text-align: right;\">\n",
       "      <th></th>\n",
       "      <th>sepal_length</th>\n",
       "      <th>sepal_width</th>\n",
       "      <th>petal_length</th>\n",
       "      <th>petal_width</th>\n",
       "      <th>species</th>\n",
       "    </tr>\n",
       "  </thead>\n",
       "  <tbody>\n",
       "    <tr>\n",
       "      <th>0</th>\n",
       "      <td>5.1</td>\n",
       "      <td>3.5</td>\n",
       "      <td>1.4</td>\n",
       "      <td>0.2</td>\n",
       "      <td>setosa</td>\n",
       "    </tr>\n",
       "    <tr>\n",
       "      <th>1</th>\n",
       "      <td>4.9</td>\n",
       "      <td>3.0</td>\n",
       "      <td>1.4</td>\n",
       "      <td>0.2</td>\n",
       "      <td>setosa</td>\n",
       "    </tr>\n",
       "    <tr>\n",
       "      <th>2</th>\n",
       "      <td>4.7</td>\n",
       "      <td>3.2</td>\n",
       "      <td>1.3</td>\n",
       "      <td>0.2</td>\n",
       "      <td>setosa</td>\n",
       "    </tr>\n",
       "    <tr>\n",
       "      <th>3</th>\n",
       "      <td>4.6</td>\n",
       "      <td>3.1</td>\n",
       "      <td>1.5</td>\n",
       "      <td>0.2</td>\n",
       "      <td>setosa</td>\n",
       "    </tr>\n",
       "    <tr>\n",
       "      <th>4</th>\n",
       "      <td>5.0</td>\n",
       "      <td>3.6</td>\n",
       "      <td>1.4</td>\n",
       "      <td>0.2</td>\n",
       "      <td>setosa</td>\n",
       "    </tr>\n",
       "  </tbody>\n",
       "</table>\n",
       "</div>"
      ],
      "text/plain": [
       "   sepal_length  sepal_width  petal_length  petal_width species\n",
       "0           5.1          3.5           1.4          0.2  setosa\n",
       "1           4.9          3.0           1.4          0.2  setosa\n",
       "2           4.7          3.2           1.3          0.2  setosa\n",
       "3           4.6          3.1           1.5          0.2  setosa\n",
       "4           5.0          3.6           1.4          0.2  setosa"
      ]
     },
     "execution_count": 18,
     "metadata": {},
     "output_type": "execute_result"
    }
   ],
   "source": [
    "dataset = pd.read_csv(\"https://raw.githubusercontent.com/catharinamega/Data-Mining-ISB-2020/main/Week%204/iris.csv\")\n",
    "dataset.head()"
   ]
  },
  {
   "cell_type": "markdown",
   "metadata": {
    "id": "hv8_UYnnBTYx"
   },
   "source": [
    "## Data Preprocessing"
   ]
  },
  {
   "cell_type": "markdown",
   "metadata": {
    "id": "shWWY2QSGewj"
   },
   "source": [
    "Periksa apakah ada baris yang duplikat\n",
    "\n"
   ]
  },
  {
   "cell_type": "code",
   "execution_count": 19,
   "metadata": {
    "colab": {
     "base_uri": "https://localhost:8080/"
    },
    "id": "wJ6hGSssFRBC",
    "outputId": "116192b4-8222-4830-e17e-bfd0bcd9c01f"
   },
   "outputs": [
    {
     "data": {
      "text/plain": [
       "3"
      ]
     },
     "execution_count": 19,
     "metadata": {},
     "output_type": "execute_result"
    }
   ],
   "source": [
    "dataset.duplicated().sum()"
   ]
  },
  {
   "cell_type": "markdown",
   "metadata": {
    "id": "vSvEybiKLomQ"
   },
   "source": [
    "Periksa apakah ada missing values"
   ]
  },
  {
   "cell_type": "code",
   "execution_count": 20,
   "metadata": {
    "colab": {
     "base_uri": "https://localhost:8080/"
    },
    "id": "RlNt-lKmLw_X",
    "outputId": "d1e322ef-6681-4f1a-a542-c563af6601b2"
   },
   "outputs": [
    {
     "name": "stdout",
     "output_type": "stream",
     "text": [
      "sepal_length    0\n",
      "sepal_width     0\n",
      "petal_length    0\n",
      "petal_width     0\n",
      "species         0\n",
      "dtype: int64\n"
     ]
    }
   ],
   "source": [
    "print(dataset.isnull().sum())"
   ]
  },
  {
   "cell_type": "markdown",
   "metadata": {
    "id": "6Q8ZWmLAID5m"
   },
   "source": [
    "Periksa outlier dengan boxplot untuk setiap kolom feature"
   ]
  },
  {
   "cell_type": "code",
   "execution_count": 33,
   "metadata": {
    "colab": {
     "base_uri": "https://localhost:8080/",
     "height": 299
    },
    "id": "g8uA0mTDIC3w",
    "outputId": "644b449b-9507-40ea-a032-dece636a6672"
   },
   "outputs": [
    {
     "data": {
      "image/png": "[encoded data removed]",
      "text/plain": [
       "<Figure size 720x720 with 4 Axes>"
      ]
     },
     "metadata": {
      "needs_background": "light"
     },
     "output_type": "display_data"
    }
   ],
   "source": [
    "iris = dataset.melt(id_vars='species')\n",
    "sns.catplot(data=iris, x='species', y='value',col='variable', kind='box', col_wrap=2)\n",
    "plt.show()"
   ]
  },
  {
   "cell_type": "markdown",
   "metadata": {
    "id": "x1Jp_nX3DoIN"
   },
   "source": [
    "Pisahkan dataset menjadi variabel independen dan variabel dependen"
   ]
  },
  {
   "cell_type": "code",
   "execution_count": 34,
   "metadata": {
    "id": "1AAkxvSgB4ao"
   },
   "outputs": [],
   "source": [
    "X = dataset[['sepal_length','sepal_width','petal_length','petal_width']]\n",
    "y = dataset['species']"
   ]
  },
  {
   "cell_type": "markdown",
   "metadata": {
    "id": "tM7meP78DvRO"
   },
   "source": [
    "Pisahkan dataset train dan test dataset, dengan ukuran dataset test 0.1"
   ]
  },
  {
   "cell_type": "code",
   "execution_count": 35,
   "metadata": {
    "id": "FFg5hkAMEyCo"
   },
   "outputs": [],
   "source": [
    "from sklearn.model_selection import train_test_split\n",
    "\n",
    "X_train, X_test, y_train, y_test = train_test_split(X, y, test_size = 0.1, random_state = 0)"
   ]
  },
  {
   "cell_type": "markdown",
   "metadata": {
    "id": "i8kBslhcGv3A"
   },
   "source": [
    "Lakukan fitur scaling pada variabel X_train dan X_test. "
   ]
  },
  {
   "cell_type": "code",
   "execution_count": 36,
   "metadata": {
    "id": "AiCPrBd4JyDf"
   },
   "outputs": [
    {
     "name": "stdout",
     "output_type": "stream",
     "text": [
      "[[-1.08593443  0.09813652 -1.24448561 -1.41148027]\n",
      " [ 0.2219428  -0.36672067  0.44627813  0.40699124]\n",
      " [-0.37254685 -1.06400644  0.38991934  0.01731878]\n",
      " [-1.20483236 -0.13429207 -1.3008444  -1.15169862]\n",
      " [-0.49144478  1.95756524 -1.35720319 -1.0218078 ]\n",
      " [-0.25364892 -0.59914926  0.6717133   1.05644535]\n",
      " [-0.25364892 -0.13429207  0.44627813  0.40699124]\n",
      " [-1.20483236  0.79542229 -1.01905044 -1.28158945]\n",
      " [-1.68042408 -0.36672067 -1.3008444  -1.28158945]\n",
      " [ 0.45973866 -0.59914926  0.61535451  0.79666371]\n",
      " [-1.44262822  1.26027947 -1.52627956 -1.28158945]\n",
      " [-0.84813857  1.72513665 -1.01905044 -1.0218078 ]\n",
      " [ 0.45973866 -0.36672067  0.33356055  0.1472096 ]\n",
      " [-0.9670365  -1.76129221 -0.23002736 -0.24246287]\n",
      " [-0.9670365   0.79542229 -1.18812682 -1.0218078 ]\n",
      " [ 0.69753452  0.09813652  1.00986605  0.79666371]\n",
      " [-0.49144478 -0.13429207  0.44627813  0.40699124]\n",
      " [-0.72924064  1.02785088 -1.24448561 -1.28158945]\n",
      " [ 0.34084073 -0.13429207  0.6717133   0.79666371]\n",
      " [ 0.69753452 -0.59914926  1.06622484  1.316227  ]\n",
      " [-0.72924064 -0.83157785  0.10812538  0.27710042]\n",
      " [-0.13475099  1.72513665 -1.13176803 -1.15169862]\n",
      " [ 0.2219428  -0.83157785  0.78443088  0.53688206]\n",
      " [ 0.10304487 -0.13429207  0.27720176  0.40699124]\n",
      " [-0.01585306 -1.06400644  0.16448418  0.01731878]\n",
      " [ 1.17312624 -0.13429207  1.00986605  1.18633618]\n",
      " [-1.32373029  0.33056511 -1.35720319 -1.28158945]\n",
      " [ 1.29202417  0.09813652  0.78443088  1.44611782]\n",
      " [-0.9670365   1.02785088 -1.18812682 -0.76202616]\n",
      " [-0.49144478  1.49270806 -1.24448561 -1.28158945]\n",
      " [-0.9670365  -2.45857798 -0.11730978 -0.24246287]\n",
      " [ 0.81643245 -0.13429207  1.00986605  0.79666371]\n",
      " [ 1.05422831  0.5629937   1.12258363  1.70589946]\n",
      " [ 0.2219428  -1.9937208   0.72807209  0.40699124]\n",
      " [ 1.05422831 -1.29643503  1.17894242  0.79666371]\n",
      " [-0.25364892 -1.29643503  0.10812538 -0.11257205]\n",
      " [ 2.24320761 -0.13429207  1.34801879  1.44611782]\n",
      " [ 0.57863659  0.5629937   0.55899572  0.53688206]\n",
      " [-0.37254685 -1.52886362  0.05176659 -0.11257205]\n",
      " [ 0.57863659 -0.83157785  0.6717133   0.79666371]\n",
      " [ 0.57863659 -0.59914926  0.78443088  0.40699124]\n",
      " [-1.08593443 -1.29643503  0.44627813  0.66677289]\n",
      " [ 0.57863659 -1.29643503  0.72807209  0.92655453]\n",
      " [ 1.4109221   0.33056511  0.55899572  0.27710042]\n",
      " [ 0.81643245 -0.13429207  0.84078967  1.05644535]\n",
      " [ 0.2219428   0.79542229  0.44627813  0.53688206]\n",
      " [-1.20483236  0.09813652 -1.18812682 -1.28158945]\n",
      " [-0.01585306 -0.83157785  0.78443088  0.92655453]\n",
      " [-0.25364892 -0.83157785  0.27720176  0.1472096 ]\n",
      " [-0.25364892 -0.36672067 -0.06095099  0.1472096 ]\n",
      " [-0.37254685 -1.29643503  0.16448418  0.1472096 ]\n",
      " [ 0.34084073 -0.13429207  0.50263692  0.27710042]\n",
      " [ 1.64871796  0.33056511  1.29166     0.79666371]\n",
      " [-0.61034271  1.49270806 -1.24448561 -1.28158945]\n",
      " [-1.79932201 -0.13429207 -1.46992077 -1.41148027]\n",
      " [ 0.69753452 -0.83157785  0.89714846  0.92655453]\n",
      " [-0.13475099 -0.13429207  0.27720176  0.01731878]\n",
      " [-0.49144478  0.79542229 -1.13176803 -1.28158945]\n",
      " [-0.13475099  3.1197082  -1.24448561 -1.0218078 ]\n",
      " [ 1.29202417  0.09813652  0.6717133   0.40699124]\n",
      " [-1.44262822  0.09813652 -1.24448561 -1.28158945]\n",
      " [ 0.10304487 -0.13429207  0.78443088  0.79666371]\n",
      " [-0.84813857 -1.29643503 -0.39910374 -0.11257205]\n",
      " [-1.44262822  0.79542229 -1.3008444  -1.15169862]\n",
      " [ 0.45973866 -1.9937208   0.44627813  0.40699124]\n",
      " [ 1.64871796  1.26027947  1.34801879  1.70589946]\n",
      " [-0.13475099 -0.36672067  0.27720176  0.1472096 ]\n",
      " [-1.20483236 -0.13429207 -1.3008444  -1.41148027]\n",
      " [ 1.52982003 -0.13429207  1.23530121  1.18633618]\n",
      " [ 1.29202417  0.33056511  1.12258363  1.44611782]\n",
      " [ 0.81643245 -0.13429207  1.17894242  1.316227  ]\n",
      " [ 0.69753452 -0.59914926  1.06622484  1.18633618]\n",
      " [-0.84813857  1.72513665 -1.18812682 -1.28158945]\n",
      " [-1.20483236  0.79542229 -1.18812682 -1.28158945]\n",
      " [ 0.81643245  0.33056511  0.78443088  1.05644535]\n",
      " [ 1.05422831  0.5629937   1.12258363  1.18633618]\n",
      " [-1.56152615 -1.76129221 -1.35720319 -1.15169862]\n",
      " [ 0.45973866  0.79542229  0.95350726  1.44611782]\n",
      " [-1.08593443 -0.13429207 -1.3008444  -1.28158945]\n",
      " [-0.13475099 -1.29643503  0.72807209  1.05644535]\n",
      " [ 1.29202417  0.09813652  0.95350726  1.18633618]\n",
      " [-1.68042408  0.33056511 -1.35720319 -1.28158945]\n",
      " [-0.9670365   1.26027947 -1.3008444  -1.28158945]\n",
      " [ 1.64871796 -0.13429207  1.17894242  0.53688206]\n",
      " [-0.84813857  1.02785088 -1.3008444  -1.15169862]\n",
      " [-1.68042408 -0.13429207 -1.35720319 -1.28158945]\n",
      " [-0.49144478  1.95756524 -1.13176803 -1.0218078 ]\n",
      " [-0.37254685 -1.76129221  0.16448418  0.1472096 ]\n",
      " [ 1.17312624  0.33056511  1.23530121  1.44611782]\n",
      " [ 2.12430968 -0.13429207  1.62981275  1.18633618]\n",
      " [-0.84813857  1.02785088 -1.3008444  -1.28158945]\n",
      " [-1.08593443  0.09813652 -1.24448561 -1.41148027]\n",
      " [-0.72924064  0.79542229 -1.3008444  -1.28158945]\n",
      " [-0.13475099 -0.59914926  0.44627813  0.1472096 ]\n",
      " [ 0.93533038 -0.13429207  0.38991934  0.27710042]\n",
      " [-0.9670365   0.33056511 -1.41356198 -1.28158945]\n",
      " [-0.84813857  0.5629937  -1.13176803 -0.89191698]\n",
      " [ 0.69753452 -0.36672067  0.33356055  0.1472096 ]\n",
      " [-0.49144478  0.79542229 -1.24448561 -1.0218078 ]\n",
      " [ 2.24320761 -1.06400644  1.79888913  1.44611782]\n",
      " [-1.08593443 -1.52886362 -0.23002736 -0.24246287]\n",
      " [ 2.48100347  1.72513665  1.51709517  1.05644535]\n",
      " [ 1.05422831  0.09813652  0.38991934  0.27710042]\n",
      " [-0.72924064  2.42242242 -1.24448561 -1.41148027]\n",
      " [ 0.2219428  -0.13429207  0.61535451  0.79666371]\n",
      " [-0.01585306  2.18999383 -1.41356198 -1.28158945]\n",
      " [ 2.24320761 -0.59914926  1.68617154  1.05644535]\n",
      " [-0.84813857  1.72513665 -1.24448561 -1.15169862]\n",
      " [-1.32373029  0.33056511 -1.18812682 -1.28158945]\n",
      " [ 1.88651382 -0.59914926  1.34801879  0.92655453]\n",
      " [-0.9670365   0.5629937  -1.3008444  -1.28158945]\n",
      " [ 0.57863659  0.79542229  1.06622484  1.57600864]\n",
      " [-0.13475099 -0.59914926  0.22084297  0.1472096 ]\n",
      " [-0.01585306 -0.83157785  0.10812538  0.01731878]\n",
      " [-0.13475099 -1.06400644 -0.11730978 -0.24246287]\n",
      " [ 0.69753452  0.33056511  0.89714846  1.44611782]\n",
      " [ 1.05422831 -0.13429207  0.84078967  1.44611782]\n",
      " [ 0.57863659 -1.29643503  0.6717133   0.40699124]\n",
      " [ 1.05422831 -0.13429207  0.72807209  0.66677289]\n",
      " [-0.9670365  -0.13429207 -1.18812682 -1.28158945]\n",
      " [-0.37254685 -1.52886362 -0.0045922  -0.24246287]\n",
      " [ 1.05422831  0.09813652  1.06622484  1.57600864]\n",
      " [-0.01585306 -0.83157785  0.78443088  0.92655453]\n",
      " [-0.84813857  0.79542229 -1.24448561 -1.28158945]\n",
      " [ 0.93533038 -0.36672067  0.50263692  0.1472096 ]\n",
      " [-0.25364892 -0.13429207  0.22084297  0.1472096 ]\n",
      " [ 0.10304487  0.33056511  0.61535451  0.79666371]\n",
      " [ 0.57863659 -1.76129221  0.38991934  0.1472096 ]\n",
      " [-0.37254685  1.02785088 -1.35720319 -1.28158945]\n",
      " [-0.84813857  1.49270806 -1.24448561 -1.0218078 ]\n",
      " [-1.08593443  0.09813652 -1.24448561 -1.41148027]\n",
      " [ 0.57863659 -0.36672067  1.06622484  0.79666371]\n",
      " [-0.01585306 -0.83157785  0.22084297 -0.24246287]\n",
      " [ 2.24320761  1.72513665  1.68617154  1.316227  ]\n",
      " [-1.44262822  0.33056511 -1.3008444  -1.28158945]]\n",
      "[[-0.51947181 -0.49160733  0.57719258  1.65210471]\n",
      " [-0.18789406 -1.83235458 -0.1388734  -0.46339522]\n",
      " [-1.01683844  2.63680293 -1.83139299 -1.67225233]\n",
      " [ 1.96736134 -0.26814945  1.35835547  0.74546188]\n",
      " [-1.84578283  0.84913993 -1.76629609 -1.67225233]\n",
      " [ 0.30947257  0.62568205  1.16306475  1.80321185]\n",
      " [-1.84578283  1.0725978  -1.8964899  -1.52114519]\n",
      " [ 0.97262808  0.1787663   0.31680495  0.29214047]\n",
      " [ 1.13841695 -0.49160733  0.38190186  0.14103333]\n",
      " [-0.02210518 -0.49160733 -0.1388734  -0.01007381]\n",
      " [-0.02210518 -0.93852308  0.90267712  0.14103333]\n",
      " [ 0.47526145  0.40222418  0.18661113  0.29214047]\n",
      " [-0.02210518 -0.49160733  0.31680495 -0.16118095]\n",
      " [ 0.64105032 -0.49160733  0.25170804  0.29214047]\n",
      " [-0.02210518 -0.26814945  0.31680495  0.14103333]]\n"
     ]
    }
   ],
   "source": [
    "from sklearn.preprocessing import StandardScaler\n",
    "\n",
    "sc = StandardScaler()\n",
    "X_train = sc.fit_transform(X_train)\n",
    "X_test = sc.fit_transform(X_test)\n",
    "\n",
    "print(X_train)\n",
    "print(X_test)"
   ]
  },
  {
   "cell_type": "markdown",
   "metadata": {
    "id": "M9Wnfyt7ApS7"
   },
   "source": [
    "#Logistic Regression"
   ]
  },
  {
   "cell_type": "markdown",
   "metadata": {
    "id": "mN-9NfADFAmn"
   },
   "source": [
    "Bangun model dan ukur accuracy nya"
   ]
  },
  {
   "cell_type": "code",
   "execution_count": 37,
   "metadata": {
    "colab": {
     "base_uri": "https://localhost:8080/"
    },
    "id": "7nNOFcp_FETB",
    "outputId": "d7ccedd7-3984-4042-db0a-91e8eda9dba1"
   },
   "outputs": [
    {
     "name": "stdout",
     "output_type": "stream",
     "text": [
      "Accuracy Score:  0.9333333333333333\n"
     ]
    }
   ],
   "source": [
    "from sklearn.metrics import accuracy_score\n",
    "classifier = LogisticRegression(random_state=0)\n",
    "classifier.fit(X_train, y_train)\n",
    "X_pred = classifier.predict(X_test)\n",
    "print(\"Accuracy Score: \", accuracy_score(y_test, X_pred))"
   ]
  },
  {
   "cell_type": "markdown",
   "metadata": {
    "id": "zZyes8UOVhsy"
   },
   "source": [
    "Uji model dengan dataset test"
   ]
  },
  {
   "cell_type": "code",
   "execution_count": 38,
   "metadata": {
    "colab": {
     "base_uri": "https://localhost:8080/"
    },
    "id": "W1W8JtIXVlRF",
    "outputId": "725e39b6-f43e-4ac4-c006-f49aff2570ab"
   },
   "outputs": [
    {
     "name": "stdout",
     "output_type": "stream",
     "text": [
      "['virginica' 'versicolor' 'setosa' 'virginica' 'setosa' 'virginica'\n",
      " 'setosa' 'versicolor' 'versicolor' 'versicolor' 'versicolor' 'versicolor'\n",
      " 'versicolor' 'versicolor' 'versicolor']\n"
     ]
    }
   ],
   "source": [
    "y_pred = classifier.predict(X_test)\n",
    "print(y_pred)"
   ]
  },
  {
   "cell_type": "markdown",
   "metadata": {
    "id": "SS6eNQWKLdpn"
   },
   "source": [
    "# Naive Bayes\n",
    "\n",
    "Buat model persamaan berdasarkan data training yang sudah dibuat pada tahap preprocess"
   ]
  },
  {
   "cell_type": "code",
   "execution_count": 40,
   "metadata": {
    "colab": {
     "base_uri": "https://localhost:8080/"
    },
    "id": "tKgc72ocP3IB",
    "outputId": "8fe5dd58-3f84-4d0c-b04f-8f7fe444dda6"
   },
   "outputs": [],
   "source": [
    "model = GaussianNB()"
   ]
  },
  {
   "cell_type": "markdown",
   "metadata": {
    "id": "4kjfj39PQch0"
   },
   "source": [
    "Uji hasil model dengan data test"
   ]
  },
  {
   "cell_type": "code",
   "execution_count": 41,
   "metadata": {
    "colab": {
     "base_uri": "https://localhost:8080/"
    },
    "id": "XlKc_hcrQiwS",
    "outputId": "c03d4b2a-6964-4cce-be56-268ca473ebeb"
   },
   "outputs": [
    {
     "name": "stdout",
     "output_type": "stream",
     "text": [
      "['virginica' 'versicolor' 'setosa' 'virginica' 'setosa' 'virginica'\n",
      " 'setosa' 'versicolor' 'versicolor' 'versicolor' 'versicolor' 'versicolor'\n",
      " 'versicolor' 'versicolor' 'versicolor']\n"
     ]
    }
   ],
   "source": [
    "model.fit(X_train,y_train)\n",
    "y_pred = model.predict(X_test)\n",
    "print(y_pred)"
   ]
  },
  {
   "cell_type": "markdown",
   "metadata": {
    "id": "BVSh48SQQsAy"
   },
   "source": [
    "Ukur akurasi dari model persamaan Naive Bayes Classifier"
   ]
  },
  {
   "cell_type": "code",
   "execution_count": 42,
   "metadata": {
    "colab": {
     "base_uri": "https://localhost:8080/"
    },
    "id": "wH6jeQxqQjYo",
    "outputId": "e648a302-804f-4aa9-ff70-dd8556cf8b4d"
   },
   "outputs": [
    {
     "name": "stdout",
     "output_type": "stream",
     "text": [
      "Confusion Matrix\n",
      " [[3 0 0]\n",
      " [0 8 0]\n",
      " [0 1 3]]\n",
      "Accuracy Score:  0.9333333333333333\n"
     ]
    }
   ],
   "source": [
    "from sklearn.metrics import confusion_matrix, accuracy_score\n",
    "cm = confusion_matrix(y_test, y_pred)\n",
    "print(\"Confusion Matrix\\n\", cm)\n",
    "\n",
    "print(\"Accuracy Score: \", accuracy_score(y_test, y_pred))"
   ]
  },
  {
   "cell_type": "markdown",
   "metadata": {
    "id": "WIB_g5-BRSsu"
   },
   "source": [
    "# K-Nearest Neighbour (K-NN) Classifier"
   ]
  },
  {
   "cell_type": "markdown",
   "metadata": {
    "id": "WwzQ0Xo5Rexr"
   },
   "source": [
    "Buatlah model KNN berdasarkan data training yang sudah dibuat di tahap preprocess, gunakan metric pengukuran jarak 'euclidean'"
   ]
  },
  {
   "cell_type": "code",
   "execution_count": 43,
   "metadata": {
    "colab": {
     "base_uri": "https://localhost:8080/"
    },
    "id": "_ESV58YzRQe4",
    "outputId": "25530154-99e7-4552-b849-0a2d473f18c5"
   },
   "outputs": [
    {
     "data": {
      "text/plain": [
       "KNeighborsClassifier(metric='euclidean')"
      ]
     },
     "execution_count": 43,
     "metadata": {},
     "output_type": "execute_result"
    }
   ],
   "source": [
    "from sklearn.neighbors import KNeighborsClassifier\n",
    "classifier = KNeighborsClassifier(n_neighbors = 5, metric = \"euclidean\")\n",
    "classifier.fit(X_train, y_train)"
   ]
  },
  {
   "cell_type": "markdown",
   "metadata": {
    "id": "JvkdoXUpTYmA"
   },
   "source": [
    "Uji model dengan data test"
   ]
  },
  {
   "cell_type": "code",
   "execution_count": 44,
   "metadata": {
    "colab": {
     "base_uri": "https://localhost:8080/"
    },
    "id": "jcmAu9Y2TcME",
    "outputId": "432c128c-3a16-46c8-8467-fa48bf6e40fc"
   },
   "outputs": [
    {
     "name": "stdout",
     "output_type": "stream",
     "text": [
      "['virginica' 'versicolor' 'setosa' 'virginica' 'setosa' 'virginica'\n",
      " 'setosa' 'versicolor' 'versicolor' 'versicolor' 'versicolor' 'versicolor'\n",
      " 'versicolor' 'versicolor' 'versicolor']\n"
     ]
    }
   ],
   "source": [
    "y_pred = classifier.predict(X_test)\n",
    "print(y_pred)"
   ]
  },
  {
   "cell_type": "markdown",
   "metadata": {
    "id": "jOGui9qYRxMv"
   },
   "source": [
    "Ukur akurasi dari model K-Nearest Neighbor"
   ]
  },
  {
   "cell_type": "code",
   "execution_count": 45,
   "metadata": {
    "colab": {
     "base_uri": "https://localhost:8080/"
    },
    "id": "lLMIOnTJS37y",
    "outputId": "74dcd0a0-8b6a-4e2a-fd50-9d0ace20b934"
   },
   "outputs": [
    {
     "name": "stdout",
     "output_type": "stream",
     "text": [
      "Confusion Matrix\n",
      " [[3 0 0]\n",
      " [0 8 0]\n",
      " [0 1 3]]\n",
      "Accuracy Score:  0.9333333333333333\n"
     ]
    }
   ],
   "source": [
    "from sklearn.metrics import confusion_matrix, accuracy_score\n",
    "dataset = confusion_matrix(y_test, y_pred)\n",
    "print(\"Confusion Matrix\\n\", dataset)\n",
    "\n",
    "print(\"Accuracy Score: \", accuracy_score(y_test, y_pred))"
   ]
  },
  {
   "cell_type": "markdown",
   "metadata": {
    "id": "NSHLmIIeT3jP"
   },
   "source": [
    "#Kesimpulan\n",
    "Dari klasifikasi 3 model diatas memiliki nilai akurasi yang sama dari masing-masing setiap model"
   ]
  }
 ],
 "metadata": {
  "colab": {
   "collapsed_sections": [],
   "provenance": [],
   "toc_visible": true
  },
  "kernelspec": {
   "display_name": "Python 3 (ipykernel)",
   "language": "python",
   "name": "python3"
  },
  "language_info": {
   "codemirror_mode": {
    "name": "ipython",
    "version": 3
   },
   "file_extension": ".py",
   "mimetype": "text/x-python",
   "name": "python",
   "nbconvert_exporter": "python",
   "pygments_lexer": "ipython3",
   "version": "3.9.7"
  }
 },
 "nbformat": 4,
 "nbformat_minor": 1
}
